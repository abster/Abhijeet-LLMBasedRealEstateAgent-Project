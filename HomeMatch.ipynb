{
 "cells": [
  {
   "cell_type": "code",
   "execution_count": 1,
   "id": "a39747ab-f962-46a9-aa0e-150e21628c9a",
   "metadata": {},
   "outputs": [
    {
     "data": {
      "text/markdown": [
       "## Summary of user preferences\n",
       "The user prefers a comfortable 3-bedroom house with a spacious kitchen and cozy living room. They value amenities such as a quiet neighborhood, good local schools, and shopping malls. Transportation options important to them include a backyard for gardening, a two-car garage, and a modern, energy-efficient heating system. They prefer easy access to a reliable bus line, nearby parks, and bike-friendly roads in their neighborhood. They also desire a balance between suburban tranquility and access to urban amenities like restaurants and theaters in the exterior color of their house.\n"
      ],
      "text/plain": [
       "## Summary of user preferences\n",
       "The user prefers a comfortable 3-bedroom house with a spacious kitchen and cozy living room. They value amenities such as a quiet neighborhood, good local schools, and shopping malls. Transportation options important to them include a backyard for gardening, a two-car garage, and a modern, energy-efficient heating system. They prefer easy access to a reliable bus line, nearby parks, and bike-friendly roads in their neighborhood. They also desire a balance between suburban tranquility and access to urban amenities like restaurants and theaters in the exterior color of their house.\n"
      ]
     },
     "metadata": {},
     "output_type": "display_data"
    },
    {
     "name": "stdout",
     "output_type": "stream",
     "text": [
      "{'query': \"System: You are a real-estate agent. You MUST answer based on the provided context. Based on the real-estate listings in the context and user's preferences, select the best matching real-estate listings. Only output a json array containing listing numbers for matching listings.\\nHuman: The user prefers a comfortable 3-bedroom house with a spacious kitchen and cozy living room. They value amenities such as a quiet neighborhood, good local schools, and shopping malls. Transportation options important to them include a backyard for gardening, a two-car garage, and a modern, energy-efficient heating system. They prefer easy access to a reliable bus line, nearby parks, and bike-friendly roads in their neighborhood. They also desire a balance between suburban tranquility and access to urban amenities like restaurants and theaters in the exterior color of their house.\", 'result': '```json\\n[7, 9]\\n```'}\n",
      "Listing numbers from LLM: [7, 9]\n"
     ]
    },
    {
     "data": {
      "text/markdown": [
       "## Recommendations from LLM\n"
      ],
      "text/plain": [
       "## Recommendations from LLM\n"
      ]
     },
     "metadata": {},
     "output_type": "display_data"
    },
    {
     "data": {
      "text/markdown": [
       "### Listing 7\n"
      ],
      "text/plain": [
       "<IPython.core.display.Markdown object>"
      ]
     },
     "metadata": {},
     "output_type": "display_data"
    },
    {
     "data": {
      "text/markdown": [
       "This charming 3-bedroom house in Green Oaks offers a spacious kitchen and cozy living room, perfect for relaxing and entertaining. The quiet neighborhood is close to good local schools and shopping malls, providing convenience and comfort. The backyard is ideal for gardening, and the two-car garage offers ample storage space. The modern, energy-efficient heating system ensures a comfortable living environment year-round.\n",
       "\n",
       "Green Oaks is a vibrant community with access to nearby parks, perfect for leisurely walks and outdoor activities. The neighborhood is bike-friendly, with easy access to bike lanes for those who enjoy cycling. Public transportation options are convenient, providing easy access to urban amenities like restaurants and theaters.\n",
       "\n",
       "This house in Green Oaks offers the perfect balance between suburban tranquility and access to urban amenities, making it an ideal location for those seeking a sustainable and connected lifestyle."
      ],
      "text/plain": [
       "<IPython.core.display.Markdown object>"
      ]
     },
     "metadata": {},
     "output_type": "display_data"
    },
    {
     "data": {
      "text/markdown": [
       "This charming 3-bedroom house in Green Oaks offers a spacious kitchen and cozy living room, perfect for relaxing and entertaining. The quiet neighborhood is close to good local schools and shopping malls, providing convenience and comfort. The backyard is ideal for gardening, and the two-car garage offers ample storage space. The modern, energy-efficient heating system ensures a comfortable living environment year-round.\n",
       "\n",
       "Green Oaks is a vibrant community with access to nearby parks, perfect for leisurely walks and outdoor activities. The neighborhood is bike-friendly, with easy access to bike lanes for those who enjoy cycling. Public transportation options are convenient, providing easy access to urban amenities like restaurants and theaters.\n",
       "\n",
       "This house in Green Oaks offers the perfect balance between suburban tranquility and access to urban amenities, making it an ideal location for those seeking a sustainable and connected lifestyle."
      ],
      "text/plain": [
       "This charming 3-bedroom house in Green Oaks offers a spacious kitchen and cozy living room, perfect for relaxing and entertaining. The quiet neighborhood is close to good local schools and shopping malls, providing convenience and comfort. The backyard is ideal for gardening, and the two-car garage offers ample storage space. The modern, energy-efficient heating system ensures a comfortable living environment year-round.\n",
       "\n",
       "Green Oaks is a vibrant community with access to nearby parks, perfect for leisurely walks and outdoor activities. The neighborhood is bike-friendly, with easy access to bike lanes for those who enjoy cycling. Public transportation options are convenient, providing easy access to urban amenities like restaurants and theaters.\n",
       "\n",
       "This house in Green Oaks offers the perfect balance between suburban tranquility and access to urban amenities, making it an ideal location for those seeking a sustainable and connected lifestyle."
      ]
     },
     "metadata": {},
     "output_type": "display_data"
    },
    {
     "data": {
      "text/markdown": [
       "### Listing 9\n"
      ],
      "text/plain": [
       "<IPython.core.display.Markdown object>"
      ]
     },
     "metadata": {},
     "output_type": "display_data"
    },
    {
     "data": {
      "text/markdown": [
       "This cozy 3-bedroom home in Green Oaks offers a spacious kitchen and a comfortable living room. The neighborhood is known for its quiet and environmentally-conscious community, with access to local parks and hiking trails. The house features a two-car garage and a modern, energy-efficient heating system. With easy access to schools, shopping, and dining, this home provides the perfect balance of nature and convenience. The exterior color of the house complements the suburban tranquility while still being close to urban amenities like restaurants and theaters."
      ],
      "text/plain": [
       "<IPython.core.display.Markdown object>"
      ]
     },
     "metadata": {},
     "output_type": "display_data"
    },
    {
     "data": {
      "text/markdown": [
       "This cozy 3-bedroom home in Green Oaks offers a spacious kitchen and a comfortable living room. The neighborhood is known for its quiet and environmentally-conscious community, with access to local parks and hiking trails. The house features a two-car garage and a modern, energy-efficient heating system. With easy access to schools, shopping, and dining, this home provides the perfect balance of nature and convenience. The exterior color of the house complements the suburban tranquility while still being close to urban amenities like restaurants and theaters."
      ],
      "text/plain": [
       "This cozy 3-bedroom home in Green Oaks offers a spacious kitchen and a comfortable living room. The neighborhood is known for its quiet and environmentally-conscious community, with access to local parks and hiking trails. The house features a two-car garage and a modern, energy-efficient heating system. With easy access to schools, shopping, and dining, this home provides the perfect balance of nature and convenience. The exterior color of the house complements the suburban tranquility while still being close to urban amenities like restaurants and theaters."
      ]
     },
     "metadata": {},
     "output_type": "display_data"
    }
   ],
   "source": [
    "#!/usr/bin/env python\n",
    "# coding: utf-8\n",
    "\n",
    "# This is a starter notebook for the project, you'll have to import the libraries you'll need, you can find a list of the ones available in this workspace in the requirements.txt file in this workspace.\n",
    "\n",
    "import os\n",
    "from langchain_openai.chat_models import ChatOpenAI\n",
    "import csv\n",
    "from langchain.prompts import PromptTemplate, ChatPromptTemplate\n",
    "from langchain_community.document_loaders.csv_loader import CSVLoader\n",
    "from langchain_openai.embeddings import OpenAIEmbeddings\n",
    "from langchain_experimental.open_clip.open_clip import OpenCLIPEmbeddings\n",
    "\n",
    "from langchain_chroma.vectorstores import Chroma\n",
    "from langchain_community.vectorstores import LanceDB\n",
    "import chromadb\n",
    "from langchain.chains import RetrievalQA\n",
    "import json\n",
    "from IPython.display import Markdown, display\n",
    "import re\n",
    "from PIL import Image\n",
    "import shutil\n",
    "\n",
    "os.environ[\"OPENAI_API_KEY\"] = \"voc-6285383661266773632486678b43fb075333.75365710\"\n",
    "os.environ[\"OPENAI_API_BASE\"] = \"https://openai.vocareum.com/v1\"\n",
    "\n",
    "regenerate_listings = False\n",
    "multi_modal_mode = False\n",
    "\n",
    "llm = ChatOpenAI(\n",
    "    model=\"gpt-3.5-turbo\",\n",
    "    temperature=0\n",
    ")\n",
    "\n",
    "example_listing = \"\"\"\n",
    "Neighborhood: Green Oaks\n",
    "Price: $800,000\n",
    "Bedrooms: 3\n",
    "Bathrooms: 2\n",
    "House Size: 2,000 sqft\n",
    "\n",
    "Description: Welcome to this eco-friendly oasis nestled in the heart of Green Oaks. This charming 3-bedroom, 2-bathroom home boasts energy-efficient features such as solar panels and a well-insulated structure. Natural light floods the living spaces, highlighting the beautiful hardwood floors and eco-conscious finishes. The open-concept kitchen and dining area lead to a spacious backyard with a vegetable garden, perfect for the eco-conscious family. Embrace sustainable living without compromising on style in this Green Oaks gem.\n",
    "\n",
    "Neighborhood Description: Green Oaks is a close-knit, environmentally-conscious community with access to organic grocery stores, community gardens, and bike paths. Take a stroll through the nearby Green Oaks Park or grab a cup of coffee at the cozy Green Bean Cafe. With easy access to public transportation and bike lanes, commuting is a breeze.\n",
    "\"\"\"\n",
    "\n",
    "base_prompt = (\"Generate a realistic and detailed real estate listing. You can refer to the provided example for how to \"\n",
    "               \"structure the real estate listing:\\n {example}\")\n",
    "prompt = PromptTemplate.from_template(\n",
    "    base_prompt + \"\\n\\n Do not repeat already generated listings: {generated_listings}\")\n",
    "summarization_prompt = PromptTemplate.from_template(\n",
    "    \"Summarize briefly in less than 10 words, capturing essential details of the specified real estate listing: {listing}\")\n",
    "\n",
    "generation_chain = prompt | llm\n",
    "summarization_chain = summarization_prompt | llm\n",
    "\n",
    "listings = []\n",
    "summaries = []\n",
    "\n",
    "generate_listings = not os.path.exists(\"generated-real-estate-listings.csv\") or regenerate_listings\n",
    "\n",
    "if generate_listings:\n",
    "    # Generate 10 real-estate listings using LLM.\n",
    "    # We generate 1 listing at a time to account for LLM's context window, and pass summaries of already generated listings\n",
    "    # to prevent generating repeated/duplicated listings.\n",
    "    for i in range(10):\n",
    "        listing = generation_chain.invoke({\"example\": example_listing, \"generated_listings\": summaries})\n",
    "        listings.append(listing.content)\n",
    "        summary = summarization_chain.invoke({\"listing\": listing.content})\n",
    "        summaries.append(summary.content)\n",
    "\n",
    "    print(f\"Generated {len(listings)} real estate listings!\\n\\n\")\n",
    "\n",
    "    # Save listings as csv file\n",
    "    with open('generated-real-estate-listings.csv', 'w', newline='') as csvfile:\n",
    "        writer = csv.writer(csvfile, quoting=csv.QUOTE_ALL)\n",
    "        for index, listing in enumerate(listings):\n",
    "            updated_listing = listing.replace('\\n', '|')\n",
    "            writer.writerow([f\"Listing Number: {index}|{updated_listing}\"])\n",
    "\n",
    "# Load real estate listings from CSV file in a Vector database.\n",
    "loader = CSVLoader(file_path='generated-real-estate-listings.csv')\n",
    "listings_data = loader.load()\n",
    "\n",
    "embeddings = OpenAIEmbeddings()\n",
    "shutil.rmtree('./chroma')\n",
    "persistent_client = chromadb.PersistentClient()\n",
    "db = Chroma(\n",
    "    client=persistent_client,\n",
    "    collection_name=\"real-estate-listings\",\n",
    "    embedding_function=embeddings,\n",
    ")\n",
    "\n",
    "db.add_documents(documents=listings_data)\n",
    "\n",
    "if multi_modal_mode:\n",
    "    # Load real estate images in a Vector database.\n",
    "    clip_embeddings = OpenCLIPEmbeddings(model_name=\"ViT-g-14\", checkpoint=\"laion2b_s34b_b88k\")\n",
    "    db_images = LanceDB(\n",
    "        table_name=\"real_estate_images\",\n",
    "        embedding=clip_embeddings,\n",
    "    )\n",
    "    image_uris = [ f\"real-estate-image{row + 1}.jpg\" for row in range(10) ]\n",
    "    db_images.add_images(uris=image_uris)\n",
    "\n",
    "questions = [\n",
    "    \"How big do you want your house to be?\"\n",
    "    \"What are 3 most important things for you in choosing this property?\",\n",
    "    \"Which amenities would you like?\",\n",
    "    \"Which transportation options are important to you?\",\n",
    "    \"How urban do you want your neighborhood to be?\",\n",
    "    \"What exterior color would you like your house to have?\"\n",
    "]\n",
    "answers = [\n",
    "    \"A comfortable 3-bedroom house with a spacious kitchen and a cozy living room.\",\n",
    "    \"A quiet neighborhood, good local schools, and shopping malls.\",\n",
    "    \"A backyard for gardening, a two-car garage, and a modern, energy-efficient heating system.\",\n",
    "    \"Easy access to a reliable bus line, nearby parks, and bike-friendly roads.\",\n",
    "    \"A balance between suburban tranquility and access to urban amenities like restaurants and theaters.\",\n",
    "    \"Tuscan yellow will be cool.\"\n",
    "    ]\n",
    "\n",
    "visual_questions = [\n",
    "    \"What exterior color would you like your house to have?\"\n",
    "]\n",
    "visual_answers = [\n",
    "    \"Tuscan yellow will be cool.\"\n",
    "]\n",
    "\n",
    "user_preferences = [{\"criteria\": question, \"user_response\": answer} for question, answer in zip(questions, answers)]\n",
    "user_visual_preferences = [{\"criteria\": question, \"user_response\": answer} for question, answer in zip(visual_questions, visual_answers)]\n",
    "\n",
    "summarization_prompt = PromptTemplate.from_template(\n",
    "    \"Summarize briefly, capturing essential details of user preferences based on provided questions and answers: {user_preferences}\")\n",
    "summarization_chain = summarization_prompt | llm\n",
    "\n",
    "user_preference_summary = summarization_chain.invoke({\"user_preferences\": user_preferences})\n",
    "user_visual_preference_summary = summarization_chain.invoke({\"user_preferences\": user_visual_preferences})\n",
    "\n",
    "display({'text/plain': f\"## Summary of user preferences\\n{user_preference_summary.content}\\n\",\n",
    "         'text/markdown': f\"## Summary of user preferences\\n{user_preference_summary.content}\\n\"},\n",
    "        raw=True)\n",
    "\n",
    "rag = RetrievalQA.from_chain_type(llm=llm, chain_type=\"stuff\", retriever=db.as_retriever())\n",
    "\n",
    "selection_prompt = ChatPromptTemplate.from_messages(\n",
    "    [(\"system\",\n",
    "      \"You are a real-estate agent. You MUST answer based on the provided context. Based on the real-estate listings in \"\n",
    "      \"the context and user's preferences, select the best matching real-estate listings. Only output a json array containing \"\n",
    "      \"listing numbers for matching listings.\"),\n",
    "     (\"human\", \"{question}\")]\n",
    ")\n",
    "\n",
    "max_attempts = 3\n",
    "attempts = 0\n",
    "matching_listings = []\n",
    "while (len(matching_listings) == 0 and attempts < max_attempts):\n",
    "    llm_response = rag.invoke(selection_prompt.format(question=user_preference_summary.content))\n",
    "    print(llm_response)\n",
    "    matching_listings = json.loads(llm_response['result'].replace(\"```json\\n\", \"\").replace(\"```\", \"\"))\n",
    "    attempts += 1\n",
    "\n",
    "print(f\"Listing numbers from LLM: {matching_listings}\")\n",
    "\n",
    "if multi_modal_mode:\n",
    "    image_results = db_images.similarity_search_by_vector(db_images._embedding.embed_query(user_visual_preference_summary.content))\n",
    "    print(f\"Image results: {image_results}\")\n",
    "\n",
    "description_prompt = ChatPromptTemplate.from_messages(\n",
    "    [(\"system\",\n",
    "      \"You are a real-estate agent. Adapt the specified real estate listing description, so that it is tailored towards \"\n",
    "      \"the user preference. Ensure that the description only includes factual information that was present in the specified \"\n",
    "      \"real estate listing. You do not need to start with the phrase \\\"Adapted real estate listing\\\"\"),\n",
    "     (\"human\", \"Real estate listing:\\n{description}\\n User preference:\\n{user_preference}\")]\n",
    ")\n",
    "\n",
    "recommendations = []\n",
    "\n",
    "for index, matching_listing in enumerate(matching_listings):\n",
    "    row = int(matching_listing)\n",
    "    if row == 0:\n",
    "        description = re.sub(r\":.*\", \"\", listings_data[0].page_content)\n",
    "    else:\n",
    "        description = re.sub(r\".*:\", \"\", listings_data[row - 1].page_content)\n",
    "\n",
    "    recommendation = llm.invoke(\n",
    "        description_prompt.format(description=description, user_preference=user_preference_summary.content))\n",
    "    recommendations.append(recommendation.content)\n",
    "\n",
    "display({'text/plain': \"## Recommendations from LLM\\n\",\n",
    "         'text/markdown': \"## Recommendations from LLM\\n\"},\n",
    "        raw=True)\n",
    "for matching_listing, recommendation in zip(matching_listings, recommendations):\n",
    "    row = int(matching_listing)\n",
    "    display(Markdown(f\"### Listing {row}\\n\"))\n",
    "    img = Image.open(f\"real-estate-image{row + 1}.jpg\")\n",
    "    img.show()\n",
    "    display(Markdown(recommendation))\n",
    "    display({'text/plain': recommendation,\n",
    "             'text/markdown': recommendation},\n",
    "            raw=True)\n"
   ]
  },
  {
   "cell_type": "code",
   "execution_count": null,
   "id": "f932a670-f07b-44d5-bdd7-aed83211b5bb",
   "metadata": {},
   "outputs": [],
   "source": []
  }
 ],
 "metadata": {
  "kernelspec": {
   "display_name": "Python 3 (ipykernel)",
   "language": "python",
   "name": "python3"
  },
  "language_info": {
   "codemirror_mode": {
    "name": "ipython",
    "version": 3
   },
   "file_extension": ".py",
   "mimetype": "text/x-python",
   "name": "python",
   "nbconvert_exporter": "python",
   "pygments_lexer": "ipython3",
   "version": "3.12.3"
  }
 },
 "nbformat": 4,
 "nbformat_minor": 5
}
